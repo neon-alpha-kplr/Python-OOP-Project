{
 "cells": [
  {
   "cell_type": "markdown",
   "metadata": {},
   "source": [
    "# Programmation Orientée Objet"
   ]
  },
  {
   "cell_type": "markdown",
   "metadata": {},
   "source": [
    "- Nous allons à présent utiliser la classe **Tree** de la librairie **treelib** pour construire un arbre de données"
   ]
  },
  {
   "cell_type": "code",
   "execution_count": 20,
   "metadata": {},
   "outputs": [],
   "source": [
    "# Import des modules nécessaires\n",
    "import json\n",
    "from unidecode import unidecode\n",
    "from treelib import Tree\n",
    "import os"
   ]
  },
  {
   "cell_type": "code",
   "execution_count": 35,
   "metadata": {},
   "outputs": [],
   "source": [
    "# Get the directory path of the current Python file\n",
    "local_path = os.path.dirname(os.path.abspath(__file__))\n",
    "# Chargement des données JSON à partir du fichier dans un dictionnaire python\n",
    "json_data = json.load(open(os.path.join(local_path, 'json_data.json'), \"rb\"))"
   ]
  },
  {
   "cell_type": "code",
   "execution_count": 28,
   "metadata": {},
   "outputs": [],
   "source": [
    "# il est nécessaire de reconvertir le dictionnaire en chaine de caractere pour le traiter ensuite\n",
    "json_str = json.dumps(json_data)"
   ]
  },
  {
   "cell_type": "code",
   "execution_count": 29,
   "metadata": {},
   "outputs": [],
   "source": [
    "# Utilisation de la fonction unidecode pour enlever les accents et autres caractères spéciaux\n",
    "json_data = (unidecode(json_str))"
   ]
  },
  {
   "cell_type": "code",
   "execution_count": 30,
   "metadata": {},
   "outputs": [],
   "source": [
    "# Conversion de la chaine de caractere JSON à nouveau en dictionnaire Python\n",
    "# Le dictionnaire python est plus pratique à manipuler que la chaine de caractère car il est structuré\n",
    "json_dict = json.loads(json_data)"
   ]
  },
  {
   "cell_type": "code",
   "execution_count": 31,
   "metadata": {},
   "outputs": [],
   "source": [
    "# Créer un nouvel arbre\n",
    "my_tree = Tree()\n",
    "\n",
    "def create_tree_from_dict(tree, parent_node_id, parent_dict):\n",
    "    for key, value in parent_dict.items():\n",
    "        if isinstance(value, dict):\n",
    "            # Créer un nouveau noeud pour la clé courante du dictionnaire\n",
    "            new_node_id = f\"{parent_node_id}.{key}\"\n",
    "            tree.create_node(tag=key, identifier=new_node_id, parent=parent_node_id)\n",
    "            \n",
    "            # Créer récursivement le sous-arbre pour le dictionnaire courant\n",
    "            create_tree_from_dict(tree, new_node_id, value)\n",
    "        else:\n",
    "            # Créer un nouveau noeud pour la feuille courante du dictionnaire\n",
    "            leaf_node_id = f\"{parent_node_id}.{key}\"\n",
    "            tree.create_node(tag=f\"{key}: {value}\", identifier=leaf_node_id, parent=parent_node_id)"
   ]
  },
  {
   "cell_type": "code",
   "execution_count": 32,
   "metadata": {},
   "outputs": [
    {
     "data": {
      "text/plain": [
       "Node(tag=Racine, identifier=racine, data=None)"
      ]
     },
     "execution_count": 32,
     "metadata": {},
     "output_type": "execute_result"
    }
   ],
   "source": [
    "# Créer le noeud racine pour l'arbre\n",
    "my_tree.create_node(tag=\"Racine\", identifier=\"racine\")"
   ]
  },
  {
   "cell_type": "code",
   "execution_count": 33,
   "metadata": {},
   "outputs": [],
   "source": [
    "# Créer la structure de l'arbre à partir du dictionnaire\n",
    "create_tree_from_dict(my_tree, \"racine\", json_dict)"
   ]
  },
  {
   "cell_type": "code",
   "execution_count": 19,
   "metadata": {},
   "outputs": [
    {
     "name": "stdout",
     "output_type": "stream",
     "text": [
      "Racine\n",
      "\n"
     ]
    }
   ],
   "source": [
    "# Afficher l'arbre\n",
    "my_tree.show()"
   ]
  },
  {
   "cell_type": "markdown",
   "metadata": {},
   "source": []
  }
 ],
 "metadata": {
  "interpreter": {
   "hash": "51fe2fe87c7090012fc582c29733fd748a62ade8ad38a43f898c04f9d15da1d1"
  },
  "kernelspec": {
   "display_name": "Python 3.7.0 64-bit",
   "language": "python",
   "name": "python3"
  },
  "language_info": {
   "codemirror_mode": {
    "name": "ipython",
    "version": 3
   },
   "file_extension": ".py",
   "mimetype": "text/x-python",
   "name": "python",
   "nbconvert_exporter": "python",
   "pygments_lexer": "ipython3",
   "version": "3.7.0"
  },
  "orig_nbformat": 4
 },
 "nbformat": 4,
 "nbformat_minor": 2
}
