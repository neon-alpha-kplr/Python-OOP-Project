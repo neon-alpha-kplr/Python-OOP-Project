{
 "cells": [
  {
   "attachments": {},
   "cell_type": "markdown",
   "metadata": {},
   "source": [
    "# Programmation Orientée Objet"
   ]
  },
  {
   "attachments": {},
   "cell_type": "markdown",
   "metadata": {},
   "source": [
    "### Le code ci-dessous charge des données **JSON** à partir d'un fichier, les convertit en un **Dictionnaire** Python, puis effectue des manipulations sur ce dictionnaire."
   ]
  },
  {
   "attachments": {},
   "cell_type": "markdown",
   "metadata": {},
   "source": [
    "\n",
    "- Voici les étapes détaillées :\n",
    "\n",
    "    1.\tLe module json est importé pour manipuler des données **JSON**. Les modules re et unidecode sont importés pour la suppression des caractères spéciaux.\n",
    "    2.\tLes données **JSON** sont chargées à partir du fichier **\"_exercices/01.json/json_data.json\"** dans un dictionnaire Python à l'aide de la fonction **json.load()**.\n",
    "    3.\tLe dictionnaire Python est converti en une chaîne de caractères **JSON** à l'aide de la fonction **json.dumps()**.\n",
    "    4.\tLa fonction **unidecode()** est utilisée pour enlever les accents et autres caractères spéciaux de la chaîne de caractères **JSON**.\n",
    "    5.\tLa chaîne de caractères **JSON** est à nouveau convertie en un dictionnaire Python à l'aide de la fonction **json.loads()**.\n",
    "    6.\tLe dictionnaire Python résultant peut ensuite être manipulé et utilisé dans le code.  \n",
    "    \n",
    "- En résumé, ce code permet de charger des données JSON à partir d'un fichier, de les convertir en dictionnaire Python et de les nettoyer de certains caractères spéciaux avant de pouvoir les manipuler plus facilement dans le reste du programme."
   ]
  },
  {
   "attachments": {},
   "cell_type": "markdown",
   "metadata": {},
   "source": [
    "#### Import des modules nécessaires"
   ]
  },
  {
   "cell_type": "code",
   "execution_count": null,
   "metadata": {},
   "outputs": [],
   "source": [
    "# Import des modules nécessaires\n",
    "import json\n",
    "from unidecode import unidecode\n",
    "import re"
   ]
  },
  {
   "attachments": {},
   "cell_type": "markdown",
   "metadata": {},
   "source": [
    "#### Obtenir le chemin du répertoire du fichier Python actuel"
   ]
  },
  {
   "cell_type": "code",
   "execution_count": null,
   "metadata": {},
   "outputs": [],
   "source": [
    "# Get the directory path of the current Python file\n",
    "local_path = os.path.dirname(os.path.abspath(__file__))"
   ]
  },
  {
   "attachments": {},
   "cell_type": "markdown",
   "metadata": {},
   "source": [
    "#### Chargement des données JSON à partir du fichier dans un dictionnaire python"
   ]
  },
  {
   "cell_type": "code",
   "execution_count": null,
   "metadata": {},
   "outputs": [],
   "source": [
    "# Chargement des données JSON à partir du fichier dans un dictionnaire python\n",
    "json_data = json.load(open(os.path.join(local_path, 'json_data.json'), \"rb\"))"
   ]
  },
  {
   "attachments": {},
   "cell_type": "markdown",
   "metadata": {},
   "source": [
    "#### il est nécessaire de reconvertir le dictionnaire en chaine de caractere pour le traiter ensuite"
   ]
  },
  {
   "cell_type": "code",
   "execution_count": null,
   "metadata": {},
   "outputs": [],
   "source": [
    "# il est nécessaire de reconvertir le dictionnaire en chaine de caractere pour le traiter ensuite\n",
    "json_str = json.dumps(json_data)"
   ]
  },
  {
   "attachments": {},
   "cell_type": "markdown",
   "metadata": {},
   "source": [
    "#### Utilisation de la fonction unidecode pour enlever les accents et autres caractères spéciaux\n"
   ]
  },
  {
   "cell_type": "code",
   "execution_count": null,
   "metadata": {},
   "outputs": [],
   "source": [
    "# Utilisation de la fonction unidecode pour enlever les accents et autres caractères spéciaux\n",
    "json_data = (unidecode(json_str))"
   ]
  },
  {
   "attachments": {},
   "cell_type": "markdown",
   "metadata": {},
   "source": [
    "#### Conversion de la chaine de caractere JSON à nouveau en dictionnaire Python\n",
    " Le dictionnaire python est plus pratique à manipuler que la chaine de caractère car il est structuré"
   ]
  },
  {
   "cell_type": "code",
   "execution_count": null,
   "metadata": {},
   "outputs": [],
   "source": [
    "# Conversion de la chaine de caractere JSON à nouveau en dictionnaire Python\n",
    "# Le dictionnaire python est plus pratique à manipuler que la chaine de caractère car il est structuré\n",
    "json_dict = json.loads(json_data)"
   ]
  },
  {
   "attachments": {},
   "cell_type": "markdown",
   "metadata": {},
   "source": [
    "#### imprimons a présent le dictionnaire"
   ]
  },
  {
   "cell_type": "code",
   "execution_count": null,
   "metadata": {},
   "outputs": [],
   "source": [
    "# imprimons a présent le dictionnaire\n",
    "\n",
    "print(json.dumps(json_dict, indent=4))"
   ]
  }
 ],
 "metadata": {
  "language_info": {
   "name": "python"
  },
  "orig_nbformat": 4
 },
 "nbformat": 4,
 "nbformat_minor": 2
}
